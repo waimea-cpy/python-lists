{
  "nbformat": 4,
  "nbformat_minor": 0,
  "metadata": {
    "orig_nbformat": 4,
    "colab": {
      "name": "Python Lists.ipynb",
      "provenance": []
    },
    "language_info": {
      "name": "python"
    },
    "kernelspec": {
      "name": "python3",
      "display_name": "Python 3"
    }
  },
  "cells": [
    {
      "cell_type": "markdown",
      "metadata": {
        "id": "7ZAkporQev2T"
      },
      "source": [
        "# Python Lists\n",
        "\n"
      ]
    },
    {
      "cell_type": "code",
      "metadata": {
        "id": "5OBjuXTmev2Y"
      },
      "source": [
        "list = []"
      ],
      "execution_count": null,
      "outputs": []
    }
  ]
}